{
 "cells": [
  {
   "cell_type": "code",
   "execution_count": 1,
   "id": "79c7730e-94df-45a1-8097-0c8f36e7509f",
   "metadata": {},
   "outputs": [],
   "source": [
    "import mysql.connector\n",
    "import os"
   ]
  },
  {
   "cell_type": "code",
   "execution_count": 4,
   "id": "9b3a8d32-c869-4d5a-8942-f07671a9aff0",
   "metadata": {},
   "outputs": [],
   "source": [
    "db = mysql.connector.connect(\n",
    "    host= 'localhost',\n",
    "    user = 'root',\n",
    "    password ='',\n",
    "    database = ''\n",
    ")\n",
    "\n",
    "cur = db.cursor()"
   ]
  },
  {
   "cell_type": "markdown",
   "id": "0a7bf473-ae54-4fda-816a-811e159ed3ee",
   "metadata": {},
   "source": [
    "**Basic Queries**\n",
    "1. List all unique cities where customers are located.\n",
    "2. Count the number of orders placed in 2017.\n",
    "3. Find the total sales per category.\n",
    "4. Calculate the percentage of orders that were paid in installments.\n",
    "5. Count the number of customers from each state. \n"
   ]
  },
  {
   "cell_type": "markdown",
   "id": "d38cafe3-65ca-4c43-ba88-f5f04a793867",
   "metadata": {},
   "source": [
    "### 1.List all unique cities where customers are located.\n"
   ]
  },
  {
   "cell_type": "code",
   "execution_count": 13,
   "id": "1ee31deb-e735-45d0-be9b-1edb3febd168",
   "metadata": {
    "scrolled": true
   },
   "outputs": [
    {
     "data": {
      "text/html": [
       "<div>\n",
       "<style scoped>\n",
       "    .dataframe tbody tr th:only-of-type {\n",
       "        vertical-align: middle;\n",
       "    }\n",
       "\n",
       "    .dataframe tbody tr th {\n",
       "        vertical-align: top;\n",
       "    }\n",
       "\n",
       "    .dataframe thead th {\n",
       "        text-align: right;\n",
       "    }\n",
       "</style>\n",
       "<table border=\"1\" class=\"dataframe\">\n",
       "  <thead>\n",
       "    <tr style=\"text-align: right;\">\n",
       "      <th></th>\n",
       "      <th>0</th>\n",
       "    </tr>\n",
       "  </thead>\n",
       "  <tbody>\n",
       "    <tr>\n",
       "      <th>0</th>\n",
       "      <td>franca</td>\n",
       "    </tr>\n",
       "    <tr>\n",
       "      <th>1</th>\n",
       "      <td>sao bernardo do campo</td>\n",
       "    </tr>\n",
       "    <tr>\n",
       "      <th>2</th>\n",
       "      <td>sao paulo</td>\n",
       "    </tr>\n",
       "    <tr>\n",
       "      <th>3</th>\n",
       "      <td>mogi das cruzes</td>\n",
       "    </tr>\n",
       "    <tr>\n",
       "      <th>4</th>\n",
       "      <td>campinas</td>\n",
       "    </tr>\n",
       "  </tbody>\n",
       "</table>\n",
       "</div>"
      ],
      "text/plain": [
       "                       0\n",
       "0                 franca\n",
       "1  sao bernardo do campo\n",
       "2              sao paulo\n",
       "3        mogi das cruzes\n",
       "4               campinas"
      ]
     },
     "execution_count": 13,
     "metadata": {},
     "output_type": "execute_result"
    }
   ],
   "source": [
    "query = \"\"\"\n",
    "    select distinct customer_city\n",
    "    from customers \"\"\"\n",
    "\n",
    "cur.execute(query)\n",
    "\n",
    "data = cur.fetchall()\n",
    "\n",
    "df = pd.DataFrame(data)\n",
    "df.head()"
   ]
  },
  {
   "cell_type": "markdown",
   "id": "f2bc1071-933f-4148-9c9a-ff67eca7ac90",
   "metadata": {},
   "source": [
    "### 2.Count the number of orders placed in 2017."
   ]
  },
  {
   "cell_type": "code",
   "execution_count": 14,
   "id": "808d79f3-c5c6-471f-9e28-d01204299e06",
   "metadata": {},
   "outputs": [
    {
     "data": {
      "text/plain": [
       "('total orders placed in 2017 are', 99441)"
      ]
     },
     "execution_count": 14,
     "metadata": {},
     "output_type": "execute_result"
    }
   ],
   "source": [
    "query = \"\"\"\n",
    "select count(order_id) \n",
    "from orders\n",
    "where year(order_purchase_timestamp)\n",
    "\"\"\"\n",
    "cur.execute(query)\n",
    "\n",
    "data = cur.fetchall()\n",
    "\n",
    "\"total orders placed in 2017 are\", data[0][0]"
   ]
  },
  {
   "cell_type": "markdown",
   "id": "db3ab3e1-0a92-49c6-ae40-744a094ff269",
   "metadata": {},
   "source": [
    "### 3.Find the total sales per category"
   ]
  },
  {
   "cell_type": "code",
   "execution_count": 15,
   "id": "038e6278-d35e-4102-adf4-d39425ffea54",
   "metadata": {
    "scrolled": true
   },
   "outputs": [
    {
     "data": {
      "text/html": [
       "<div>\n",
       "<style scoped>\n",
       "    .dataframe tbody tr th:only-of-type {\n",
       "        vertical-align: middle;\n",
       "    }\n",
       "\n",
       "    .dataframe tbody tr th {\n",
       "        vertical-align: top;\n",
       "    }\n",
       "\n",
       "    .dataframe thead th {\n",
       "        text-align: right;\n",
       "    }\n",
       "</style>\n",
       "<table border=\"1\" class=\"dataframe\">\n",
       "  <thead>\n",
       "    <tr style=\"text-align: right;\">\n",
       "      <th></th>\n",
       "      <th>Category</th>\n",
       "      <th>Sales</th>\n",
       "    </tr>\n",
       "  </thead>\n",
       "  <tbody>\n",
       "    <tr>\n",
       "      <th>0</th>\n",
       "      <td>perfumery</td>\n",
       "      <td>5.067387e+05</td>\n",
       "    </tr>\n",
       "    <tr>\n",
       "      <th>1</th>\n",
       "      <td>Furniture Decoration</td>\n",
       "      <td>1.430176e+06</td>\n",
       "    </tr>\n",
       "    <tr>\n",
       "      <th>2</th>\n",
       "      <td>telephony</td>\n",
       "      <td>4.868821e+05</td>\n",
       "    </tr>\n",
       "    <tr>\n",
       "      <th>3</th>\n",
       "      <td>bed table bath</td>\n",
       "      <td>1.712554e+06</td>\n",
       "    </tr>\n",
       "    <tr>\n",
       "      <th>4</th>\n",
       "      <td>automotive</td>\n",
       "      <td>8.522943e+05</td>\n",
       "    </tr>\n",
       "    <tr>\n",
       "      <th>...</th>\n",
       "      <td>...</td>\n",
       "      <td>...</td>\n",
       "    </tr>\n",
       "    <tr>\n",
       "      <th>69</th>\n",
       "      <td>cds music dvds</td>\n",
       "      <td>1.199430e+03</td>\n",
       "    </tr>\n",
       "    <tr>\n",
       "      <th>70</th>\n",
       "      <td>La Cuisine</td>\n",
       "      <td>2.913530e+03</td>\n",
       "    </tr>\n",
       "    <tr>\n",
       "      <th>71</th>\n",
       "      <td>Fashion Children's Clothing</td>\n",
       "      <td>7.856700e+02</td>\n",
       "    </tr>\n",
       "    <tr>\n",
       "      <th>72</th>\n",
       "      <td>PC Gamer</td>\n",
       "      <td>2.174430e+03</td>\n",
       "    </tr>\n",
       "    <tr>\n",
       "      <th>73</th>\n",
       "      <td>insurance and services</td>\n",
       "      <td>3.245100e+02</td>\n",
       "    </tr>\n",
       "  </tbody>\n",
       "</table>\n",
       "<p>74 rows × 2 columns</p>\n",
       "</div>"
      ],
      "text/plain": [
       "                       Category         Sales\n",
       "0                     perfumery  5.067387e+05\n",
       "1          Furniture Decoration  1.430176e+06\n",
       "2                     telephony  4.868821e+05\n",
       "3                bed table bath  1.712554e+06\n",
       "4                    automotive  8.522943e+05\n",
       "..                          ...           ...\n",
       "69               cds music dvds  1.199430e+03\n",
       "70                   La Cuisine  2.913530e+03\n",
       "71  Fashion Children's Clothing  7.856700e+02\n",
       "72                     PC Gamer  2.174430e+03\n",
       "73       insurance and services  3.245100e+02\n",
       "\n",
       "[74 rows x 2 columns]"
      ]
     },
     "execution_count": 15,
     "metadata": {},
     "output_type": "execute_result"
    }
   ],
   "source": [
    "query = \"\"\"\n",
    "select products.product_category as category,sum(payment_value) as total_sales\n",
    "from products join order_items \n",
    "on products.product_id = order_items.product_id\n",
    "join payments\n",
    "on order_items.order_id = payments.order_id\n",
    "group by category\n",
    "\n",
    "\"\"\"\n",
    "cur.execute(query)\n",
    "\n",
    "data  = cur.fetchall()\n",
    "df = pd.DataFrame(data, columns = [\"Category\", \"Sales\"])\n",
    "df"
   ]
  },
  {
   "cell_type": "markdown",
   "id": "48b908a6-5974-470c-b447-3929929fbbad",
   "metadata": {},
   "source": [
    "### 4.Calculate the percentage of orders that were paid in installments."
   ]
  },
  {
   "cell_type": "code",
   "execution_count": 16,
   "id": "79bcd375-f21e-4632-951b-c9f5321aec0c",
   "metadata": {},
   "outputs": [
    {
     "data": {
      "text/plain": [
       "('the percentage of orders that were paid in installments is',\n",
       " Decimal('99.9981'))"
      ]
     },
     "execution_count": 16,
     "metadata": {},
     "output_type": "execute_result"
    }
   ],
   "source": [
    "query = \"\"\"\n",
    "select (sum(case when payment_installments>= 1 then 1 else 0 end))/count(*)*100\n",
    "from payments\n",
    "\"\"\"\n",
    "\n",
    "cur.execute(query)\n",
    "\n",
    "data  = cur.fetchall()\n",
    "\"the percentage of orders that were paid in installments is\", data[0][0]"
   ]
  },
  {
   "cell_type": "markdown",
   "id": "c6b3dfb5-d121-4e57-ac8e-f2602e63ce55",
   "metadata": {},
   "source": [
    "### 5.Count the number of customers from each state."
   ]
  },
  {
   "cell_type": "code",
   "execution_count": 8,
   "id": "df72cff3-a7d8-44c2-9e92-2f410db19b94",
   "metadata": {},
   "outputs": [
    {
     "data": {
      "image/png": "[encoded data removed]",
      "text/plain": [
       "<Figure size 800x300 with 1 Axes>"
      ]
     },
     "metadata": {},
     "output_type": "display_data"
    }
   ],
   "source": [
    "query = \"\"\"\n",
    "SELECT customer_state, COUNT(customer_id) AS no_of_customers\n",
    "FROM customers\n",
    "GROUP BY customer_state\n",
    "\"\"\"\n",
    "\n",
    "cur.execute(query)\n",
    "data = cur.fetchall()\n",
    "df = pd.DataFrame(data, columns = [\"state\", \"customer_count\" ])\n",
    "df = df.sort_values(by = \"customer_count\", ascending= False)\n",
    "\n",
    "plt.figure(figsize = (8,3))\n",
    "plt.bar(df[\"state\"], df[\"customer_count\"])\n",
    "plt.xticks(rotation = 90)\n",
    "plt.xlabel(\"states\")\n",
    "plt.ylabel(\"customer_count\")\n",
    "plt.title(\"Count of Customers by States\")\n",
    "plt.show()"
   ]
  },
  {
   "cell_type": "markdown",
   "id": "9f1d7390-a0dc-42d5-8e73-abd3364f7deb",
   "metadata": {},
   "source": [
    "**Intermediate Queries**\n",
    "1. Calculate the number of orders per month in 2018.\n",
    "2. Find the average number of products per order, grouped by customer city.\n",
    "3. Calculate the percentage of total revenue contributed by each product category.\n",
    "4. Identify the correlation between product price and the number of times a product has been purchased.\n",
    "5. Calculate the total revenue generated by each seller, and rank them by revenue."
   ]
  },
  {
   "cell_type": "markdown",
   "id": "66bc5b29-a62c-4a27-bae9-5778823e0949",
   "metadata": {},
   "source": [
    "### 1.Calculate the number of orders per month in 2018."
   ]
  },
  {
   "cell_type": "code",
   "execution_count": 7,
   "id": "3f619c0b-b499-40fe-824b-46abda70028a",
   "metadata": {},
   "outputs": [
    {
     "data": {
      "image/png": "[encoded data removed]",
      "text/plain": [
       "<Figure size 640x480 with 1 Axes>"
      ]
     },
     "metadata": {},
     "output_type": "display_data"
    }
   ],
   "source": [
    "query = \"\"\"\n",
    "SELECT MONTHNAME(order_purchase_timestamp) AS month,COUNT(order_id) AS count\n",
    "FROM orders\n",
    "WHERE year(order_purchase_timestamp) =2018\n",
    "GROUP BY month\n",
    "\"\"\"\n",
    "\n",
    "cur.execute(query)\n",
    "data = cur.fetchall()\n",
    "df = pd.DataFrame(data, columns = [\"months\", \"order_count\"])\n",
    "o = [\"January\", \"February\",\"March\",\"April\",\"May\",\"June\",\"July\",\"August\",\"September\",\"October\"]\n",
    "\n",
    "ax = sns.barplot(x = df[\"months\"],y =  df[\"order_count\"], data = df, order = o, color = \"red\")\n",
    "plt.xticks(rotation = 45)\n",
    "ax.bar_label(ax.containers[0])\n",
    "plt.title(\"Count of Orders by Months is 2018\")\n",
    "\n",
    "plt.show()"
   ]
  },
  {
   "cell_type": "markdown",
   "id": "815c1159-313a-421d-a677-ff6d75144a92",
   "metadata": {},
   "source": [
    "### 2.Find the average number of products per order, grouped by customer city"
   ]
  },
  {
   "cell_type": "code",
   "execution_count": 6,
   "id": "9ca71948-c96d-4f9a-a1c6-de700447b35c",
   "metadata": {},
   "outputs": [
    {
     "data": {
      "text/html": [
       "<div>\n",
       "<style scoped>\n",
       "    .dataframe tbody tr th:only-of-type {\n",
       "        vertical-align: middle;\n",
       "    }\n",
       "\n",
       "    .dataframe tbody tr th {\n",
       "        vertical-align: top;\n",
       "    }\n",
       "\n",
       "    .dataframe thead th {\n",
       "        text-align: right;\n",
       "    }\n",
       "</style>\n",
       "<table border=\"1\" class=\"dataframe\">\n",
       "  <thead>\n",
       "    <tr style=\"text-align: right;\">\n",
       "      <th></th>\n",
       "      <th>customer_city</th>\n",
       "      <th>average_prod/orders</th>\n",
       "    </tr>\n",
       "  </thead>\n",
       "  <tbody>\n",
       "    <tr>\n",
       "      <th>0</th>\n",
       "      <td>padre carvalho</td>\n",
       "      <td>7.00</td>\n",
       "    </tr>\n",
       "    <tr>\n",
       "      <th>1</th>\n",
       "      <td>celso ramos</td>\n",
       "      <td>6.50</td>\n",
       "    </tr>\n",
       "    <tr>\n",
       "      <th>2</th>\n",
       "      <td>datas</td>\n",
       "      <td>6.00</td>\n",
       "    </tr>\n",
       "    <tr>\n",
       "      <th>3</th>\n",
       "      <td>candido godoi</td>\n",
       "      <td>6.00</td>\n",
       "    </tr>\n",
       "    <tr>\n",
       "      <th>4</th>\n",
       "      <td>matias olimpio</td>\n",
       "      <td>5.00</td>\n",
       "    </tr>\n",
       "  </tbody>\n",
       "</table>\n",
       "</div>"
      ],
      "text/plain": [
       "    customer_city average_prod/orders\n",
       "0  padre carvalho                7.00\n",
       "1     celso ramos                6.50\n",
       "2           datas                6.00\n",
       "3   candido godoi                6.00\n",
       "4  matias olimpio                5.00"
      ]
     },
     "execution_count": 6,
     "metadata": {},
     "output_type": "execute_result"
    }
   ],
   "source": [
    "query = \"\"\"\n",
    "WITH count_per_order as\n",
    "(SELECT orders.order_id, orders.customer_id, COUNT(order_items.order_id) AS oc\n",
    "FROM orders join order_items\n",
    "ON orders.order_id = order_items.order_id\n",
    "GROUP BY orders.order_id, orders.customer_id)\n",
    "\n",
    "SELECT customers.customer_city, ROUND(AVG(count_per_order.oc),2) AS average_orders\n",
    "FROM customers JOIN count_per_order\n",
    "ON customers.customer_id = count_per_order.customer_id\n",
    "GROUP BY customers.customer_city\n",
    "ORDER BY average_orders DESC\n",
    "\"\"\"\n",
    "cur.execute(query)\n",
    "data = cur.fetchall()\n",
    "\"The average number of products per order and grouped by customer city\",data\n",
    "df = pd.DataFrame(data, columns = ['customer_city','average_prod/orders'])\n",
    "df.head()"
   ]
  },
  {
   "cell_type": "markdown",
   "id": "ecf8f71e-f132-4511-b4c1-f205e2c263dc",
   "metadata": {},
   "source": [
    "### 3.Calculate the percentage of total revenue contributed by each product category."
   ]
  },
  {
   "cell_type": "code",
   "execution_count": 12,
   "id": "e0a3599c-068b-4701-aaca-58042735a78b",
   "metadata": {},
   "outputs": [
    {
     "data": {
      "text/html": [
       "<div>\n",
       "<style scoped>\n",
       "    .dataframe tbody tr th:only-of-type {\n",
       "        vertical-align: middle;\n",
       "    }\n",
       "\n",
       "    .dataframe tbody tr th {\n",
       "        vertical-align: top;\n",
       "    }\n",
       "\n",
       "    .dataframe thead th {\n",
       "        text-align: right;\n",
       "    }\n",
       "</style>\n",
       "<table border=\"1\" class=\"dataframe\">\n",
       "  <thead>\n",
       "    <tr style=\"text-align: right;\">\n",
       "      <th></th>\n",
       "      <th>Product_category</th>\n",
       "      <th>Sales%</th>\n",
       "    </tr>\n",
       "  </thead>\n",
       "  <tbody>\n",
       "    <tr>\n",
       "      <th>0</th>\n",
       "      <td>bed table bath</td>\n",
       "      <td>10.70</td>\n",
       "    </tr>\n",
       "    <tr>\n",
       "      <th>1</th>\n",
       "      <td>HEALTH BEAUTY</td>\n",
       "      <td>10.35</td>\n",
       "    </tr>\n",
       "    <tr>\n",
       "      <th>2</th>\n",
       "      <td>computer accessories</td>\n",
       "      <td>9.90</td>\n",
       "    </tr>\n",
       "    <tr>\n",
       "      <th>3</th>\n",
       "      <td>Furniture Decoration</td>\n",
       "      <td>8.93</td>\n",
       "    </tr>\n",
       "    <tr>\n",
       "      <th>4</th>\n",
       "      <td>Watches present</td>\n",
       "      <td>8.93</td>\n",
       "    </tr>\n",
       "  </tbody>\n",
       "</table>\n",
       "</div>"
      ],
      "text/plain": [
       "       Product_category  Sales%\n",
       "0        bed table bath   10.70\n",
       "1         HEALTH BEAUTY   10.35\n",
       "2  computer accessories    9.90\n",
       "3  Furniture Decoration    8.93\n",
       "4       Watches present    8.93"
      ]
     },
     "execution_count": 12,
     "metadata": {},
     "output_type": "execute_result"
    }
   ],
   "source": [
    "query = \"\"\"\n",
    "SELECT products.product_category AS category, ROUND((SUM(payments.payment_value)/ (SELECT SUM(payment_value) FROM payments))*100,2) AS sales_percentage\n",
    "FROM products JOIN order_items \n",
    "ON products.product_id = order_items.product_id\n",
    "JOIN payments \n",
    "ON order_items.order_id = payments.order_id \n",
    "GROUP BY  category \n",
    "ORDER BY sales_percentage DESC \n",
    "\"\"\"\n",
    "cur.execute(query)\n",
    "data = cur.fetchall()\n",
    "\"The total revenue% contributed by each product category\",data\n",
    "df = pd.DataFrame(data, columns = ['Product_category','Sales%'])\n",
    "df.head()"
   ]
  },
  {
   "cell_type": "markdown",
   "id": "94597056-618c-4ad8-afdb-7173bab37b54",
   "metadata": {},
   "source": [
    "### 4.Identify the correlation between product price and the number of times a product has been purchased."
   ]
  },
  {
   "cell_type": "code",
   "execution_count": 15,
   "id": "ad1e2b28-cdd4-4e68-8e5f-ea6600b7ccfd",
   "metadata": {},
   "outputs": [
    {
     "data": {
      "text/plain": [
       "('the correlation between product price and the number of times a product purchased',\n",
       " np.float64(0.9503301482940802))"
      ]
     },
     "execution_count": 15,
     "metadata": {},
     "output_type": "execute_result"
    }
   ],
   "source": [
    "query = \"\"\"\n",
    "SELECT upper(products.product_category) AS category , COUNT(order_items.product_id) AS order_counts,\n",
    "ROUND(SUM(order_items.price),2) AS product_price\n",
    "FROM products JOIN order_items\n",
    "ON products.product_id = order_items.product_id\n",
    "GROUP BY category\n",
    "ORDER BY order_counts DESC\n",
    "\"\"\"\n",
    "cur.execute(query)\n",
    "data = cur.fetchall()\n",
    "data\n",
    "df = pd.DataFrame(data, columns = ['Product_category','order_counts','Product_price'])\n",
    "df.head()\n",
    "arr1 = df['order_counts']\n",
    "arr2 = df['Product_price']\n",
    "a = np.corrcoef([arr1,arr2])\n",
    "\"the correlation between product price and the number of times a product purchased\",a[0][1]"
   ]
  },
  {
   "cell_type": "markdown",
   "id": "114abb16-b616-48b0-bd8b-a2735e5ca0e3",
   "metadata": {},
   "source": [
    "### 5.Calculate the total revenue generated by each seller, and rank them by revenue."
   ]
  },
  {
   "cell_type": "code",
   "execution_count": 6,
   "id": "03639a7c-a830-4003-8c67-066e3abe4da3",
   "metadata": {},
   "outputs": [
    {
     "data": {
      "image/png": "[encoded data removed]",
      "text/plain": [
       "<Figure size 300x300 with 1 Axes>"
      ]
     },
     "metadata": {},
     "output_type": "display_data"
    }
   ],
   "source": [
    "query = \"\"\"\n",
    "SELECT \n",
    "    seller,\n",
    "    total_revenue,\n",
    "    DENSE_RANK() OVER(ORDER BY total_revenue DESC) AS revenue_rank\n",
    "FROM (\n",
    "    SELECT \n",
    "        sellers.seller_id AS seller,\n",
    "        SUM(payments.payment_value) AS total_revenue\n",
    "    FROM sellers\n",
    "    JOIN order_items \n",
    "        ON sellers.seller_id = order_items.seller_id\n",
    "    JOIN payments \n",
    "        ON order_items.order_id = payments.order_id\n",
    "    GROUP BY sellers.seller_id\n",
    ") AS seller_revenue\n",
    "\"\"\"\n",
    "cur.execute(query)\n",
    "data = cur.fetchall()\n",
    "data\n",
    "df = pd.DataFrame(data, columns = ['Seller_id','Revenue','Rank'])\n",
    "df = df.head()\n",
    "plt.figure(figsize = (3,3))\n",
    "sns.barplot(x = \"Seller_id\",y = 'Revenue',data = df)\n",
    "plt.show()\n"
   ]
  },
  {
   "cell_type": "markdown",
   "id": "9ef2c1ee-ae2d-43f8-9fed-a4876fc38d75",
   "metadata": {},
   "source": [
    "**Advanced Queries**\n",
    "1. Calculate the moving average of order values for each customer over their order history.\n",
    "2. Calculate the cumulative sales per month for each year.\n",
    "3. Calculate the year-over-year growth rate of total sales.\n",
    "4. Calculate the retention rate of customers, defined as the percentage of customers who make another purchase within 6 months of their first purchase.\n",
    "5. Identify the top 3 customers who spent the most money in each year."
   ]
  },
  {
   "cell_type": "markdown",
   "id": "c9b5fe12-9a23-4c83-97bf-292c57cebadc",
   "metadata": {},
   "source": [
    "### 1.Calculate the moving average of order values for each customer over their order history."
   ]
  },
  {
   "cell_type": "code",
   "execution_count": 8,
   "id": "d6551fe9-7cbd-4816-9ccf-34ff41d4456e",
   "metadata": {},
   "outputs": [
    {
     "data": {
      "text/html": [
       "<div>\n",
       "<style scoped>\n",
       "    .dataframe tbody tr th:only-of-type {\n",
       "        vertical-align: middle;\n",
       "    }\n",
       "\n",
       "    .dataframe tbody tr th {\n",
       "        vertical-align: top;\n",
       "    }\n",
       "\n",
       "    .dataframe thead th {\n",
       "        text-align: right;\n",
       "    }\n",
       "</style>\n",
       "<table border=\"1\" class=\"dataframe\">\n",
       "  <thead>\n",
       "    <tr style=\"text-align: right;\">\n",
       "      <th></th>\n",
       "      <th>Customer_id</th>\n",
       "      <th>Timestamp</th>\n",
       "      <th>Price</th>\n",
       "      <th>Mov_avg</th>\n",
       "    </tr>\n",
       "  </thead>\n",
       "  <tbody>\n",
       "    <tr>\n",
       "      <th>0</th>\n",
       "      <td>00012a2ce6f8dcda20d059ce98491703</td>\n",
       "      <td>2017-11-14 16:08:26</td>\n",
       "      <td>114.74</td>\n",
       "      <td>114.739998</td>\n",
       "    </tr>\n",
       "    <tr>\n",
       "      <th>1</th>\n",
       "      <td>000161a058600d5901f007fab4c27140</td>\n",
       "      <td>2017-07-16 09:40:32</td>\n",
       "      <td>67.41</td>\n",
       "      <td>67.410004</td>\n",
       "    </tr>\n",
       "    <tr>\n",
       "      <th>2</th>\n",
       "      <td>0001fd6190edaaf884bcaf3d49edf079</td>\n",
       "      <td>2017-02-28 11:06:43</td>\n",
       "      <td>195.42</td>\n",
       "      <td>195.419998</td>\n",
       "    </tr>\n",
       "    <tr>\n",
       "      <th>3</th>\n",
       "      <td>0002414f95344307404f0ace7a26f1d5</td>\n",
       "      <td>2017-08-16 13:09:20</td>\n",
       "      <td>179.35</td>\n",
       "      <td>179.350006</td>\n",
       "    </tr>\n",
       "    <tr>\n",
       "      <th>4</th>\n",
       "      <td>000379cdec625522490c315e70c7a9fb</td>\n",
       "      <td>2018-04-02 13:42:17</td>\n",
       "      <td>107.01</td>\n",
       "      <td>107.010002</td>\n",
       "    </tr>\n",
       "  </tbody>\n",
       "</table>\n",
       "</div>"
      ],
      "text/plain": [
       "                        Customer_id            Timestamp   Price     Mov_avg\n",
       "0  00012a2ce6f8dcda20d059ce98491703  2017-11-14 16:08:26  114.74  114.739998\n",
       "1  000161a058600d5901f007fab4c27140  2017-07-16 09:40:32   67.41   67.410004\n",
       "2  0001fd6190edaaf884bcaf3d49edf079  2017-02-28 11:06:43  195.42  195.419998\n",
       "3  0002414f95344307404f0ace7a26f1d5  2017-08-16 13:09:20  179.35  179.350006\n",
       "4  000379cdec625522490c315e70c7a9fb  2018-04-02 13:42:17  107.01  107.010002"
      ]
     },
     "execution_count": 8,
     "metadata": {},
     "output_type": "execute_result"
    }
   ],
   "source": [
    "query = \"\"\"\n",
    "SELECT customer_id, order_purchase_timestamp, payment,\n",
    "AVG(payment) OVER (PARTITION BY customer_id ORDER BY order_purchase_timestamp\n",
    "ROWS BETWEEN 2 PRECEDING AND CURRENT ROW) AS mov_avg\n",
    "FROM ( \n",
    "SELECT orders.customer_id, orders.order_purchase_timestamp,\n",
    "payments.payment_value AS payment\n",
    "FROM payments JOIN orders\n",
    "ON payments.order_id = orders.order_id ) AS a\n",
    "\"\"\"\n",
    "cur.execute(query)\n",
    "data = cur.fetchall()\n",
    "df = pd.DataFrame(data, columns = ['Customer_id','Timestamp','Price','Mov_avg'])\n",
    "\n",
    "df.head()"
   ]
  },
  {
   "cell_type": "markdown",
   "id": "83ed0199-a732-4070-ba4f-0c7d3a9603ed",
   "metadata": {},
   "source": [
    "### 2.Calculate the cumulative sales per month for each year"
   ]
  },
  {
   "cell_type": "code",
   "execution_count": 10,
   "id": "bba725c6-ceeb-459e-8c00-a1c143151202",
   "metadata": {},
   "outputs": [
    {
     "data": {
      "text/html": [
       "<div>\n",
       "<style scoped>\n",
       "    .dataframe tbody tr th:only-of-type {\n",
       "        vertical-align: middle;\n",
       "    }\n",
       "\n",
       "    .dataframe tbody tr th {\n",
       "        vertical-align: top;\n",
       "    }\n",
       "\n",
       "    .dataframe thead th {\n",
       "        text-align: right;\n",
       "    }\n",
       "</style>\n",
       "<table border=\"1\" class=\"dataframe\">\n",
       "  <thead>\n",
       "    <tr style=\"text-align: right;\">\n",
       "      <th></th>\n",
       "      <th>years</th>\n",
       "      <th>months</th>\n",
       "      <th>pauments</th>\n",
       "      <th>cummulative_sales</th>\n",
       "    </tr>\n",
       "  </thead>\n",
       "  <tbody>\n",
       "    <tr>\n",
       "      <th>0</th>\n",
       "      <td>2016</td>\n",
       "      <td>9</td>\n",
       "      <td>252.24</td>\n",
       "      <td>252.24</td>\n",
       "    </tr>\n",
       "    <tr>\n",
       "      <th>1</th>\n",
       "      <td>2016</td>\n",
       "      <td>10</td>\n",
       "      <td>59090.48</td>\n",
       "      <td>59342.72</td>\n",
       "    </tr>\n",
       "    <tr>\n",
       "      <th>2</th>\n",
       "      <td>2016</td>\n",
       "      <td>12</td>\n",
       "      <td>19.62</td>\n",
       "      <td>59362.34</td>\n",
       "    </tr>\n",
       "    <tr>\n",
       "      <th>3</th>\n",
       "      <td>2017</td>\n",
       "      <td>1</td>\n",
       "      <td>138488.04</td>\n",
       "      <td>197850.38</td>\n",
       "    </tr>\n",
       "    <tr>\n",
       "      <th>4</th>\n",
       "      <td>2017</td>\n",
       "      <td>2</td>\n",
       "      <td>291908.01</td>\n",
       "      <td>489758.39</td>\n",
       "    </tr>\n",
       "  </tbody>\n",
       "</table>\n",
       "</div>"
      ],
      "text/plain": [
       "   years  months   pauments  cummulative_sales\n",
       "0   2016       9     252.24             252.24\n",
       "1   2016      10   59090.48           59342.72\n",
       "2   2016      12      19.62           59362.34\n",
       "3   2017       1  138488.04          197850.38\n",
       "4   2017       2  291908.01          489758.39"
      ]
     },
     "execution_count": 10,
     "metadata": {},
     "output_type": "execute_result"
    }
   ],
   "source": [
    "query = \"\"\"\n",
    "SELECT years, months, payment, SUM(payment)\n",
    "OVER (ORDER BY years, months) AS cummulative_sales\n",
    "FROM (\n",
    "SELECT YEAR(orders.order_purchase_timestamp) AS years,\n",
    "MONTH(orders.order_purchase_timestamp) AS months,\n",
    "ROUND(SUM(payments.payment_value),2) AS  payment \n",
    "FROM orders JOIN payments ON orders.order_id = payments.order_id\n",
    "GROUP BY years, months\n",
    "ORDER BY years, months) AS a \n",
    "\"\"\"\n",
    "cur.execute(query)\n",
    "data = cur.fetchall()\n",
    "df = pd.DataFrame(data, columns = ['years','months','pauments','cummulative_sales'])\n",
    "df.head()"
   ]
  },
  {
   "cell_type": "markdown",
   "id": "481afa14-7fcd-415b-80a4-f0203e7b95a7",
   "metadata": {},
   "source": [
    "### 3.Calculate the year-over-year growth rate of total sales."
   ]
  },
  {
   "cell_type": "code",
   "execution_count": 12,
   "id": "e83f07be-9860-4165-8fae-47e232981252",
   "metadata": {},
   "outputs": [
    {
     "data": {
      "text/html": [
       "<div>\n",
       "<style scoped>\n",
       "    .dataframe tbody tr th:only-of-type {\n",
       "        vertical-align: middle;\n",
       "    }\n",
       "\n",
       "    .dataframe tbody tr th {\n",
       "        vertical-align: top;\n",
       "    }\n",
       "\n",
       "    .dataframe thead th {\n",
       "        text-align: right;\n",
       "    }\n",
       "</style>\n",
       "<table border=\"1\" class=\"dataframe\">\n",
       "  <thead>\n",
       "    <tr style=\"text-align: right;\">\n",
       "      <th></th>\n",
       "      <th>years</th>\n",
       "      <th>total_sales</th>\n",
       "      <th>YOY_%_Growth</th>\n",
       "    </tr>\n",
       "  </thead>\n",
       "  <tbody>\n",
       "    <tr>\n",
       "      <th>0</th>\n",
       "      <td>2016</td>\n",
       "      <td>59362.34</td>\n",
       "      <td>NaN</td>\n",
       "    </tr>\n",
       "    <tr>\n",
       "      <th>1</th>\n",
       "      <td>2017</td>\n",
       "      <td>7249746.73</td>\n",
       "      <td>12112.7</td>\n",
       "    </tr>\n",
       "    <tr>\n",
       "      <th>2</th>\n",
       "      <td>2018</td>\n",
       "      <td>8699763.05</td>\n",
       "      <td>20.0</td>\n",
       "    </tr>\n",
       "  </tbody>\n",
       "</table>\n",
       "</div>"
      ],
      "text/plain": [
       "   years  total_sales  YOY_%_Growth\n",
       "0   2016     59362.34           NaN\n",
       "1   2017   7249746.73       12112.7\n",
       "2   2018   8699763.05          20.0"
      ]
     },
     "execution_count": 12,
     "metadata": {},
     "output_type": "execute_result"
    }
   ],
   "source": [
    "query = \"\"\"\n",
    "SELECT year,total_sales,\n",
    "ROUND(((total_sales-LAG(total_sales,1) OVER (ORDER BY year ))/LAG(total_sales,1) OVER (ORDER BY year))*100,2) AS yoy_of_growth\n",
    " FROM\n",
    "(SELECT YEAR(orders.order_purchase_timestamp) as year,\n",
    "ROUND(SUM(payments.payment_value),2) AS total_sales\n",
    "FROM orders JOIN payments ON orders.order_id = payments.order_id\n",
    "GROUP BY year) a \n",
    "\"\"\"\n",
    "cur.execute(query)\n",
    "data = cur.fetchall()\n",
    "df = pd.DataFrame(data, columns= [\"years\",'total_sales',\"YOY_%_Growth\"])\n",
    "df"
   ]
  },
  {
   "cell_type": "markdown",
   "id": "eff7123e-6b17-49ad-935b-97a0de447da1",
   "metadata": {},
   "source": [
    "### 4.Calculate the retention rate of customers, defined as the percentage of customers who make another purchase within 6 months of their first purchase.\n"
   ]
  },
  {
   "cell_type": "code",
   "execution_count": 4,
   "id": "bc5d225e-e946-4fe3-aaaf-222a8908f5f5",
   "metadata": {},
   "outputs": [
    {
     "data": {
      "text/plain": [
       "[(None,)]"
      ]
     },
     "execution_count": 4,
     "metadata": {},
     "output_type": "execute_result"
    }
   ],
   "source": [
    "query = \"\"\"with a as (select customers.customer_id,\n",
    "min(orders.order_purchase_timestamp) first_order\n",
    "from customers join orders\n",
    "on customers.customer_id = orders.customer_id\n",
    "group by customers.customer_id),\n",
    "\n",
    "b as (select a.customer_id, count(distinct orders.order_purchase_timestamp) next_order\n",
    "from a join orders\n",
    "on orders.customer_id = a.customer_id\n",
    "and orders.order_purchase_timestamp > first_order\n",
    "and orders.order_purchase_timestamp < \n",
    "date_add(first_order, interval 6 month)\n",
    "group by a.customer_id) \n",
    "\n",
    "select 100 * (count( distinct a.customer_id)/ count(distinct b.customer_id)) \n",
    "from a left join b \n",
    "on a.customer_id = b.customer_id ;\"\"\"\n",
    "\n",
    "cur.execute(query)\n",
    "data = cur.fetchall()\n",
    "\n",
    "data"
   ]
  },
  {
   "cell_type": "markdown",
   "id": "7766b728-62cf-47ab-a807-f0156903963a",
   "metadata": {},
   "source": [
    "### 5.Identify the top 3 customers who spent the most money in each year"
   ]
  },
  {
   "cell_type": "code",
   "execution_count": 5,
   "id": "a8873365-5ddf-4ca8-963b-6a79d5de292d",
   "metadata": {},
   "outputs": [
    {
     "data": {
      "image/png": "[encoded data removed]",
      "text/plain": [
       "<Figure size 640x480 with 1 Axes>"
      ]
     },
     "metadata": {},
     "output_type": "display_data"
    }
   ],
   "source": [
    "query = \"\"\"select years, customer_id, payment, d_rank\n",
    "from\n",
    "(select year(orders.order_purchase_timestamp) years,\n",
    "orders.customer_id,\n",
    "sum(payments.payment_value) payment,\n",
    "dense_rank() over(partition by year(orders.order_purchase_timestamp)\n",
    "order by sum(payments.payment_value) desc) d_rank\n",
    "from orders join payments \n",
    "on payments.order_id = orders.order_id\n",
    "group by year(orders.order_purchase_timestamp),\n",
    "orders.customer_id) as a\n",
    "where d_rank <= 3 ;\"\"\"\n",
    "\n",
    "cur.execute(query)\n",
    "data = cur.fetchall()\n",
    "df = pd.DataFrame(data, columns = [\"years\",\"id\",\"payment\",\"rank\"])\n",
    "sns.barplot(x = \"id\", y = \"payment\", data = df, hue = \"years\")\n",
    "plt.xticks(rotation = 90)\n",
    "plt.show()"
   ]
  },
  {
   "cell_type": "code",
   "execution_count": null,
   "id": "777a661f-fe19-443e-849d-a27f9cd0d23a",
   "metadata": {},
   "outputs": [],
   "source": []
  }
 ],
 "metadata": {
  "kernelspec": {
   "display_name": "Python 3 (ipykernel)",
   "language": "python",
   "name": "python3"
  },
  "language_info": {
   "codemirror_mode": {
    "name": "ipython",
    "version": 3
   },
   "file_extension": ".py",
   "mimetype": "text/x-python",
   "name": "python",
   "nbconvert_exporter": "python",
   "pygments_lexer": "ipython3",
   "version": "3.13.5"
  }
 },
 "nbformat": 4,
 "nbformat_minor": 5
}
